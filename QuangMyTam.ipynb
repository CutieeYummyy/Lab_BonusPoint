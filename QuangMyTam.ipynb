{
 "cells": [
  {
   "cell_type": "markdown",
   "metadata": {},
   "source": [
    "# LAB ĐIỂM CỘNG\n"
   ]
  },
  {
   "cell_type": "markdown",
   "metadata": {},
   "source": [
    "## Python (15)"
   ]
  },
  {
   "cell_type": "markdown",
   "metadata": {},
   "source": [
    "### Q1 (1)\n",
    "Rename this file as `{fullname}.ipynb`."
   ]
  },
  {
   "cell_type": "markdown",
   "metadata": {},
   "source": [
    "### Q2 (1)\n",
    "Create variable name `my_name` as string and assign your name to this variable.\n",
    "Print the `my_name`."
   ]
  },
  {
   "cell_type": "code",
   "execution_count": 1,
   "metadata": {},
   "outputs": [
    {
     "name": "stdout",
     "output_type": "stream",
     "text": [
      "QuangMyTam\n"
     ]
    }
   ],
   "source": [
    "my_name = \"Quang Mỹ Tâm\"\n",
    "print(my_name)"
   ]
  },
  {
   "cell_type": "markdown",
   "metadata": {},
   "source": [
    "### Q3 (2)\n",
    "Develop class `CPStudent` with the following attributes\n",
    "\n",
    "- `student_id`:str -> vlu student id that start with `st`\n",
    "- `name`:str -> Name of the associated student\n",
    "- `score`:float -> Score of the midterm exam. The range is `[0.0, 100.0]`\n",
    "\n",
    "During the object creation, assign `student_id` and `name`. The `score` is set as `0.0` by default.\n",
    "\n",
    "`s1 = DAstudent('207CT20000', 'Mr. Jo')`"
   ]
  },
  {
   "cell_type": "code",
   "execution_count": 8,
   "metadata": {},
   "outputs": [
    {
     "name": "stdout",
     "output_type": "stream",
     "text": [
      "Student ID: st2274802010451, Name: QuangMyTam, Score: 10.00\n"
     ]
    }
   ],
   "source": [
    "class CPStudent:\n",
    "    def __init__(self, student_id: str, name: str, score: float = 0.0) -> None:\n",
    "        if not student_id.startswith(\"st\"): raise ValueError(\"Student ID phải bắt đầu với 'st'\")\n",
    "\n",
    "        self.student_id = student_id\n",
    "        self.name = name\n",
    "\n",
    "        if not 0.0 <= score <= 100.0: raise ValueError(\"Score must be between 0.0 and 100.0\")\n",
    "        \n",
    "        self.score = score\n",
    "\n",
    "    def __str__(self) -> str: return f\"Student ID: {self.student_id}, Name: {self.name}, Score: {self.score:.2f}\"\n",
    "\n",
    "# Example Output\n",
    "student1 = CPStudent('st2274802010451', 'QuangMyTam', 10.0)\n",
    "print(student1)  # Output: Student ID: 207CT20000, Name: Mr. Jo, Score: 0.00\n"
   ]
  },
  {
   "cell_type": "markdown",
   "metadata": {},
   "source": [
    "### Q4 (2)\n",
    "\n",
    "Modify the class `DAStudent` to have function `LAB that takes `float` as the input.\n",
    "This function will assign the input to `DAStudent.score`.\n",
    "\n",
    "Example\n",
    "\n",
    "```python\n",
    "s1.lab(50.5)\n",
    "print(s1.score)\n",
    ">>> 50.5\n",
    "```\n",
    "\n",
    "### Q5 (3)\n",
    "\n",
    "Check the correctness of the input. Inform the user when the input is wrong.\n",
    "\n",
    "*Hint: You will only get full mark if you use `raise`.*\n",
    "\n",
    "Example 1:\n",
    "\n",
    "```python\n",
    "s1.lab(150)\n",
    ">>> ValueError: Some message\n",
    "```\n",
    "\n",
    "Example 2:\n",
    "\n",
    "```python\n",
    "s1.lab('150')\n",
    ">>> ValueError: Some message\n",
    "```"
   ]
  },
  {
   "cell_type": "code",
   "execution_count": 13,
   "metadata": {},
   "outputs": [
    {
     "name": "stdout",
     "output_type": "stream",
     "text": [
      "Student ID: st2274802010784, Name: QuangMyTam, Score: 10.00\n",
      "50.5\n",
      "Score must be a number\n",
      "Score must be a number\n"
     ]
    }
   ],
   "source": [
    "class CPStudent:\n",
    "    def __init__(self, student_id: str, name: str, score: float = 0.0) -> None:\n",
    "\n",
    "        if not student_id.startswith(\"st\"): raise ValueError(\"Student ID must start with 'st'\")\n",
    "\n",
    "        self.student_id = student_id\n",
    "        self.name = name\n",
    "        self.score = score\n",
    "\n",
    "    def __str__(self) -> str: return f\"Student ID: {self.student_id}, Name: {self.name}, Score: {self.score:.2f}\"\n",
    "\n",
    "    def lab(self, score: float) -> None:\n",
    "\n",
    "        if not isinstance(score, float): raise ValueError(\"Score must be a number\")\n",
    "        if not 0.0 <= score <= 100.0: raise ValueError(\"Score must be between 0.0 and 100.0\")\n",
    "        \n",
    "        self.score = score\n",
    "\n",
    "# Example Output\n",
    "student1 = CPStudent('st2274802010784', 'QuangMyTam', 10.0)\n",
    "print(student1)  # Output: Student ID: st2274802010784, Name: QuangMyTam, Score: 10.00\n",
    "\n",
    "student1.lab(50.5)\n",
    "print(student1.score)  # Output: 50.5\n",
    "\n",
    "try:\n",
    "    student1.lab(150)  # This will raise a ValueError\n",
    "except ValueError as e:\n",
    "    print(e)  # Output: ValueError: Score must be between 0.0 and 100.0\n",
    "\n",
    "try:\n",
    "    student1.lab('150')  # This will raise a ValueError\n",
    "except ValueError as e:\n",
    "    print(e)  # Output: ValueError: Score must be a number\n"
   ]
  },
  {
   "cell_type": "markdown",
   "metadata": {},
   "source": [
    "### Q6 (6)\n",
    "\n",
    "Once upon a time in the magical land, there are two engineer beavers living together. \n",
    "\n",
    "\n",
    "Their hobby is to build a dam out of wood.\n",
    "\n",
    "\n",
    "Years and years, dam after another dam, one of engineer beaver get bored. The beaver wants a better life. A more accurate calculation of dam not just keep building it anymore.\n",
    "\n",
    "\n",
    "Now, they are deploying a rain sensor to collect data which will be used to predict water level of the river.\n",
    "\n",
    "Finally, with their new skill set and hardworking, a predictor is obtained. They named their invention `The Oracle of the Dam (TOTD)`.\n",
    "\n",
    "However, the `TOTD` only predicts the water level. \n",
    "\n",
    "The engineer/data scientist beavers still needs to build the dam themselves but this time, it will be the most efficient dam of the beaver land ever.\n",
    "\n",
    "Every 2 meters of the water level, the dam needs to be build 1 level higher. And every log (*) uses will cost $3.5.\n",
    "\n",
    "Here is how the 3-level dam look like from the cross section view\n",
    "\n",
    "```\n",
    "l_3   *\n",
    "l_2  ***\n",
    "l_1 *****\n",
    "```\n",
    "\n",
    "Here is how much this project will cost\n",
    "\n",
    "```\n",
    "Number of logs: 9\n",
    "Cost: $31.5\n",
    "```\n",
    "\n",
    "\n",
    "Your task is simple, write a function `dam_design` that takes `water_level` as an input. Print the design of the dam and summarize the material and cost.\n",
    "\n",
    "Example 1:\n",
    "```python\n",
    "dam_design(0)\n",
    ">>> *\n",
    ">>> Number of logs: 1\n",
    ">>> Cost: $3.5\n",
    "```\n",
    "\n",
    "Example 2:\n",
    "```python\n",
    "dam_design(1)\n",
    ">>> *\n",
    ">>> Number of logs: 1\n",
    ">>> Cost: $3.5\n",
    "```\n",
    "\n",
    "Example 3:\n",
    "```python\n",
    "dam_design(2)\n",
    ">>>  *\n",
    ">>> ***\n",
    ">>> Number of logs: 4\n",
    ">>> Cost: $14.0\n",
    "```\n",
    "\n",
    "Example 4:\n",
    "```python\n",
    "dam_design(3)\n",
    ">>>  *\n",
    ">>> ***\n",
    ">>> Number of logs: 4\n",
    ">>> Cost: $14.0\n",
    "```\n",
    "\n",
    "Example 5:\n",
    "```python\n",
    "dam_design(4)\n",
    ">>>   *\n",
    ">>>  ***\n",
    ">>> *****\n",
    ">>> Number of logs: 9\n",
    ">>> Cost: $31.5\n",
    "```"
   ]
  },
  {
   "cell_type": "code",
   "execution_count": 12,
   "metadata": {},
   "outputs": [
    {
     "name": "stdout",
     "output_type": "stream",
     "text": [
      "*\n",
      "Number of logs: 1\n",
      "Cost: $3.50\n",
      "*\n",
      "Number of logs: 1\n",
      "Cost: $3.50\n",
      "******\n",
      " *\n",
      "Number of logs: 7\n",
      "Cost: $24.50\n",
      "******\n",
      " *\n",
      "Number of logs: 7\n",
      "Cost: $24.50\n",
      "***************\n",
      " ******\n",
      "  *\n",
      "Number of logs: 22\n",
      "Cost: $77.00\n"
     ]
    }
   ],
   "source": [
    "def dam_design(water_level: float) -> None:\n",
    "    \n",
    "    # Calculate dam height (number of levels)\n",
    "    dam_height = int(water_level // 2) + 1  # Round up for partial meters\n",
    "\n",
    "    # create variables cost and number of logs\n",
    "    cost = 0\n",
    "    num_logs = 0\n",
    "\n",
    "    # Print dam design level by level\n",
    "    for level in range(dam_height, 0, -1):\n",
    "        # Calculate number of logs for this level\n",
    "        level_logs = level * (2 * level - 1)\n",
    "        num_logs += level_logs\n",
    "\n",
    "        # Print level design\n",
    "        print(f\"{' ' * (dam_height - level)}{'*' * level_logs}\")\n",
    "\n",
    "        # Update cost\n",
    "        cost += level_logs * 3.5\n",
    "\n",
    "    # Print cost breakdown\n",
    "    print(f\"Number of logs: {num_logs}\")\n",
    "    print(f\"Cost: ${cost:.2f}\")\n",
    "\n",
    "# Example Output\n",
    "dam_design(0)\n",
    "dam_design(1)\n",
    "dam_design(2)\n",
    "dam_design(3)\n",
    "dam_design(4)\n"
   ]
  }
 ],
 "metadata": {
  "kernelspec": {
   "display_name": "Python 3.10.4 64-bit",
   "language": "python",
   "name": "python3"
  },
  "language_info": {
   "codemirror_mode": {
    "name": "ipython",
    "version": 3
   },
   "file_extension": ".py",
   "mimetype": "text/x-python",
   "name": "python",
   "nbconvert_exporter": "python",
   "pygments_lexer": "ipython3",
   "version": "3.12.3"
  },
  "orig_nbformat": 4,
  "vscode": {
   "interpreter": {
    "hash": "916dbcbb3f70747c44a77c7bcd40155683ae19c65e1c03b4aa3499c5328201f1"
   }
  }
 },
 "nbformat": 4,
 "nbformat_minor": 2
}
